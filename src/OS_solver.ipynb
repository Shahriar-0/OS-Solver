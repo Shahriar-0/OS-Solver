{
  "cells": [
    {
      "cell_type": "code",
      "execution_count": null,
      "metadata": {
        "colab": {
          "base_uri": "https://localhost:8080/",
          "height": 1000
        },
        "id": "zCspd2zaQWeg",
        "outputId": "02bc37fd-129b-4107-d510-07eea58da883"
      },
      "outputs": [],
      "source": [
        "!pip install langchain # langchain is an open-source library for building conversational AI applications\n",
        "!pip install langchain-community # langchain-community is an open-source library for building conversational AI applications\n",
        "!pip install unstructured # The unstructured library provides open-source components for pre-processing text documents such as PDFs, HTML and Word Documents.\n",
        "!pip install openai # OpenAI is a large-scale, open-source, and general-purpose language model\n",
        "!pip install pybind11 # pybind11 is a lightweight header-only library that exposes C++ types in Python\n",
        "!pip install chromadb # the AI-native open-source embedding database\n",
        "!pip install Cython # Cython is an optimising static compiler for both the Python programming language\n",
        "!pip3 install \"git+https://github.com/philferriere/cocoapi.git#egg=pycocotools&subdirectory=PythonAPI\" # COCO is a large image dataset designed for object detection, segmentation, person keypoints detection, stuff segmentation, and caption generation\n",
        "!pip install unstructured[local-inference] # Unstructured is an open-source library for pre-processing text documents such as PDFs, HTML and Word Documents.\n",
        "!CC=clang CXX=clang++ ARCHFLAGS=\"-arch x86_64\" pip install 'git+https://github.com/facebookresearch/detectron2.git' # Detectron2 is Facebook AI Research's next generation library that provides state-of-the-art detection and segmentation algorithms.\n",
        "!pip install layoutparser[layoutmodels,tesseract] # A Unified Toolkit for Deep Learning Based Document Image Analysis\n",
        "!pip install pytesseract # Python-tesseract is an optical character recognition (OCR) tool for python.\n",
        "!pip install Pillow==9.0.0 # The Python Imaging Library adds image processing capabilities to your Python interpreter. Need this version, otherwise errors occur.\n",
        "!apt-get install poppler-utils # error occurs without this, pdf rendering library\n",
        "!pip install tiktoken # tiktoken is a library for encoding and decoding text tokens."
      ]
    },
    {
      "cell_type": "code",
      "execution_count": 7,
      "metadata": {
        "id": "H9JIgerdxQNj"
      },
      "outputs": [],
      "source": [
        "import langchain\n",
        "import unstructured\n",
        "import openai\n",
        "import pybind11\n",
        "import chromadb\n",
        "import Cython\n",
        "import pycocotools\n",
        "import layoutparser\n",
        "import pytesseract\n",
        "import PIL\n",
        "import detectron2\n",
        "from langchain.embeddings import OpenAIEmbeddings "
      ]
    },
    {
      "cell_type": "code",
      "execution_count": 8,
      "metadata": {
        "id": "qzou8IvvQpwr"
      },
      "outputs": [],
      "source": [
        "import os\n",
        "os.environ['OPENAI_API_KEY'] = 'your-api-key'"
      ]
    },
    {
      "cell_type": "code",
      "execution_count": 9,
      "metadata": {
        "id": "kzFhWwEeQvV3"
      },
      "outputs": [],
      "source": [
        "from langchain.document_loaders import UnstructuredPDFLoader\n",
        "from langchain.indexes import VectorstoreIndexCreator"
      ]
    },
    {
      "cell_type": "code",
      "execution_count": 10,
      "metadata": {
        "id": "SJsxayI6QwE9"
      },
      "outputs": [],
      "source": [
        "from detectron2.config import get_cfg\n",
        "cfg = get_cfg()\n",
        "cfg.MODEL.DEVICE = 'gpu' #GPU is recommended"
      ]
    },
    {
      "cell_type": "markdown",
      "metadata": {},
      "source": [
        "if you want to use it for another document, uncomment below"
      ]
    },
    {
      "cell_type": "code",
      "execution_count": null,
      "metadata": {
        "colab": {
          "base_uri": "https://localhost:8080/"
        },
        "id": "VyX-UbKLQxoS",
        "outputId": "bdddcb7c-897c-4dcf-ab19-948006f67456"
      },
      "outputs": [],
      "source": [
        "# !wget https://os.ecci.ucr.ac.cr/slides/Abraham-Silberschatz-Operating-System-Concepts-10th-2018.pdf  # OS concepts; replace with any pdf\n",
        "# !mkdir ../docs\n",
        "# !mv Meta-12.31.2022-Exhibit-99.1-FINAL.pdf ../docs"
      ]
    },
    {
      "cell_type": "code",
      "execution_count": 24,
      "metadata": {
        "id": "YzOpYMfFSQ7x"
      },
      "outputs": [],
      "source": [
        "text_folder = '../docs'\n",
        "loaders = [UnstructuredPDFLoader(os.path.join(text_folder, fn)) for fn in os.listdir(text_folder)]"
      ]
    },
    {
      "cell_type": "code",
      "execution_count": null,
      "metadata": {
        "colab": {
          "base_uri": "https://localhost:8080/",
          "height": 393
        },
        "id": "3oi3kHlZ27OI",
        "outputId": "94dca59d-655d-4199-c2c4-8f72026f6485"
      },
      "outputs": [],
      "source": [
        "embeddings = OpenAIEmbeddings()\n",
        "index = VectorstoreIndexCreator(embedding=embeddings).from_loaders(loaders)"
      ]
    },
    {
      "cell_type": "code",
      "execution_count": null,
      "metadata": {
        "colab": {
          "base_uri": "https://localhost:8080/",
          "height": 35
        },
        "id": "_vpx0nTqUvBv",
        "outputId": "0a38b827-3527-4875-c8a1-9463190603b6"
      },
      "outputs": [
        {
          "data": {
            "application/vnd.google.colaboratory.intrinsic+json": {
              "type": "string"
            },
            "text/plain": [
              "' The Earliest Deadline First (EDF) algorithm schedules tasks based on their deadlines, giving priority to the task with the nearest deadline. This ensures timely task completion and optimal CPU utilization.'"
            ]
          },
          "execution_count": 11,
          "metadata": {},
          "output_type": "execute_result"
        }
      ],
      "source": [
        "query = \"Explain EDF (Earliest Deadline First) scheduling algorithm briefly?\"\n",
        "index.query(query)"
      ]
    }
  ],
  "metadata": {
    "accelerator": "GPU",
    "colab": {
      "gpuType": "T4",
      "provenance": []
    },
    "kernelspec": {
      "display_name": "Python 3",
      "name": "python3"
    },
    "language_info": {
      "name": "python"
    }
  },
  "nbformat": 4,
  "nbformat_minor": 0
}
